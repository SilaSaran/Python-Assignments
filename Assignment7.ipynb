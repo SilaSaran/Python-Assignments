{
 "cells": [
  {
   "cell_type": "code",
   "execution_count": 5,
   "id": "b8b0c1bf-0ff4-497f-bf18-7528ad292919",
   "metadata": {},
   "outputs": [
    {
     "name": "stdout",
     "output_type": "stream",
     "text": [
      "[ 1  2  3  4  5  6  7  8  9 10]\n",
      "[[ 1  2  3  4  5]\n",
      " [ 6  7  8  9 10]]\n"
     ]
    }
   ],
   "source": [
    "# Exercise 1: \n",
    "\n",
    "import numpy as np\n",
    "\n",
    "# Create a numpy array containing numbers from 1 to 10\n",
    "array = np.arange(1, 11)\n",
    "print(array)\n",
    "\n",
    "# Reshape the array to a 2x5 matrix\n",
    "reshaped_array = array.reshape(2, 5)\n",
    "\n",
    "print(reshaped_array)\n"
   ]
  },
  {
   "cell_type": "code",
   "execution_count": 25,
   "id": "97fa9dbd-28f5-4db8-a280-378a6d5c1600",
   "metadata": {},
   "outputs": [
    {
     "name": "stdout",
     "output_type": "stream",
     "text": [
      "[ 1  2  3  4  5  6  7  8  9 10 11 12 13 14 15 16 17 18 19 20]\n",
      "[ 6  7  8  9 10 11 12 13 14 15 16]\n"
     ]
    }
   ],
   "source": [
    "# Exercise 2:\n",
    "\n",
    "# Create a numpy array containing numbers from 1 to 20\n",
    "array = np.arange(1, 21)\n",
    "print(array)\n",
    "\n",
    "# Extract the elements between the 5th and 15th index\n",
    "extracted_elements = array[5:16]\n",
    "\n",
    "print(extracted_elements)\n"
   ]
  },
  {
   "cell_type": "code",
   "execution_count": 12,
   "id": "865076f8-da34-4c60-a41c-c5dfa9571218",
   "metadata": {},
   "outputs": [
    {
     "name": "stdout",
     "output_type": "stream",
     "text": [
      "apples     3\n",
      "bananas    2\n",
      "oranges    1\n",
      "pears      4\n",
      "dtype: int64\n"
     ]
    }
   ],
   "source": [
    "# Exercise 3:\n",
    "\n",
    "import pandas as pd\n",
    "\n",
    "# Create a Pandas Series with the given data\n",
    "fruit_series = pd.Series({'apples': 3, 'bananas': 2, 'oranges': 1})\n",
    "\n",
    "# Add a new item to the Series\n",
    "fruit_series['pears'] = 4\n",
    "\n",
    "# Print the updated Series\n",
    "print(fruit_series)\n"
   ]
  },
  {
   "cell_type": "code",
   "execution_count": 24,
   "id": "83328ad8-b53d-4c23-b605-0b9202efb2d0",
   "metadata": {},
   "outputs": [
    {
     "name": "stdout",
     "output_type": "stream",
     "text": [
      "      name  age  gender\n",
      "0   Aleena   25  Female\n",
      "1     Binu   30    Male\n",
      "2  Chethan   22    Male\n",
      "3     Dino   35    Male\n",
      "4     Elsa   28  Female\n",
      "5    Firoz   40    Male\n",
      "6   Geetha   32  Female\n",
      "7     Hima   27  Female\n",
      "8     Isac   24    Male\n",
      "9    Jelmy   29  Female\n"
     ]
    }
   ],
   "source": [
    "# Exercise 4:\n",
    "\n",
    "# Create a dictionary with sample data\n",
    "data = {\n",
    "    'name': ['Aleena', 'Binu', 'Chethan', 'Dino', 'Elsa', 'Firoz', 'Geetha', 'Hima', 'Isac', 'Jelmy'],\n",
    "    'age': [25, 30, 22, 35, 28, 40, 32, 27, 24, 29],\n",
    "    'gender': ['Female', 'Male', 'Male', 'Male', 'Female', 'Male', 'Female', 'Female', 'Male', 'Female']\n",
    "}\n",
    "\n",
    "# Create a DataFrame from the dictionary\n",
    "df = pd.DataFrame(data)\n",
    "print(df)\n"
   ]
  },
  {
   "cell_type": "code",
   "execution_count": 26,
   "id": "2ee55f69-a369-4c5d-ae23-b34800078749",
   "metadata": {},
   "outputs": [
    {
     "name": "stdout",
     "output_type": "stream",
     "text": [
      "      name  age  gender  occupation\n",
      "0   Aleena   25  Female  Programmer\n",
      "1     Binu   30    Male     Manager\n",
      "2  Chethan   22    Male     Analyst\n",
      "3     Dino   35    Male  Programmer\n",
      "4     Elsa   28  Female     Manager\n",
      "5    Firoz   40    Male     Analyst\n",
      "6   Geetha   32  Female  Programmer\n",
      "7     Hima   27  Female     Manager\n",
      "8     Isac   24    Male     Analyst\n",
      "9    Jelmy   29  Female  Programmer\n"
     ]
    }
   ],
   "source": [
    "# Exercise 5:\n",
    "# Add a new column called 'occupation' to the DataFrame\n",
    "df['occupation'] = ['Programmer', 'Manager', 'Analyst', 'Programmer', 'Manager', 'Analyst', 'Programmer', 'Manager', 'Analyst', 'Programmer']\n",
    "\n",
    "# Print the updated DataFrame\n",
    "print(df)\n",
    "\n",
    "\n"
   ]
  },
  {
   "cell_type": "code",
   "execution_count": 27,
   "id": "12a92485-0b32-4015-bdab-ef846302551c",
   "metadata": {},
   "outputs": [
    {
     "name": "stdout",
     "output_type": "stream",
     "text": [
      "     name  age  gender  occupation\n",
      "1    Binu   30    Male     Manager\n",
      "3    Dino   35    Male  Programmer\n",
      "5   Firoz   40    Male     Analyst\n",
      "6  Geetha   32  Female  Programmer\n"
     ]
    }
   ],
   "source": [
    "# Exercise 6: \n",
    "# Filter rows where age is greater than or equal to 30\n",
    "filtered_df = df[df['age'] >= 30]\n",
    "\n",
    "# Print the filtered DataFrame\n",
    "print(filtered_df)\n"
   ]
  },
  {
   "cell_type": "code",
   "execution_count": 31,
   "id": "67124d25-d9e8-40a8-8e09-8794d6492dfe",
   "metadata": {},
   "outputs": [
    {
     "name": "stdout",
     "output_type": "stream",
     "text": [
      "      name  age  gender\n",
      "0   Aleena   25  Female\n",
      "1     Binu   30    Male\n",
      "2  Chethan   22    Male\n",
      "3     Dino   35    Male\n",
      "4     Elsa   28  Female\n",
      "5    Firoz   40    Male\n",
      "6   Geetha   32  Female\n",
      "7     Hima   27  Female\n",
      "8     Isac   24    Male\n",
      "9    Jelmy   29  Female\n"
     ]
    }
   ],
   "source": [
    "# Exercise 7:\n",
    "\n",
    "df = pd.DataFrame(data)\n",
    "\n",
    "# Save the DataFrame to a CSV file\n",
    "df.to_csv('sample_data.csv', index=False)\n",
    "\n",
    "# Read the CSV file into a DataFrame\n",
    "df_from_csv = pd.read_csv('sample_data.csv')\n",
    "\n",
    "# Display the contents of the DataFrame\n",
    "print(df_from_csv)\n"
   ]
  },
  {
   "cell_type": "code",
   "execution_count": null,
   "id": "3d9aaa60-2973-49fd-a47b-4756a1ca89f1",
   "metadata": {},
   "outputs": [],
   "source": []
  }
 ],
 "metadata": {
  "kernelspec": {
   "display_name": "Python 3 (ipykernel)",
   "language": "python",
   "name": "python3"
  },
  "language_info": {
   "codemirror_mode": {
    "name": "ipython",
    "version": 3
   },
   "file_extension": ".py",
   "mimetype": "text/x-python",
   "name": "python",
   "nbconvert_exporter": "python",
   "pygments_lexer": "ipython3",
   "version": "3.12.7"
  }
 },
 "nbformat": 4,
 "nbformat_minor": 5
}
