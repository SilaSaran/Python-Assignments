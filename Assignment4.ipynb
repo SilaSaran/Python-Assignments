{
 "cells": [
  {
   "cell_type": "code",
   "execution_count": 5,
   "id": "d6627846-213d-470e-9a3b-6dafe92e5eae",
   "metadata": {},
   "outputs": [
    {
     "name": "stdout",
     "output_type": "stream",
     "text": [
      "The length of the list is: 5\n"
     ]
    }
   ],
   "source": [
    "# The len() function in Python is used to determine the number of items in an object, such as a list, string, tuple, dictionary, or other iterable types. \n",
    "#It returns the length as an integer.\n",
    "\n",
    "my_list = [10, 20, 30, 40, 50]\n",
    "list_length = len(my_list)\n",
    "\n",
    "print(\"The length of the list is:\", list_length)\n"
   ]
  },
  {
   "cell_type": "code",
   "execution_count": 4,
   "id": "c95b97a1-14d2-4c47-a5ec-c797a8291dea",
   "metadata": {},
   "outputs": [
    {
     "name": "stdin",
     "output_type": "stream",
     "text": [
      "Please enter your name:  sila\n"
     ]
    },
    {
     "name": "stdout",
     "output_type": "stream",
     "text": [
      "Hello, sila!\n"
     ]
    }
   ],
   "source": [
    "# Write a Python function greet(name) that takes a person's name as input and prints \"Hello, [name]!\".\n",
    "\n",
    "def greet():\n",
    "       name = input(\"Please enter your name: \")\n",
    "       print(f\"Hello, {name}!\")\n",
    "greet()\n",
    "\n"
   ]
  },
  {
   "cell_type": "code",
   "execution_count": 22,
   "id": "2f05d399-b4cf-4d0b-b188-b09a6d269e37",
   "metadata": {},
   "outputs": [
    {
     "name": "stdout",
     "output_type": "stream",
     "text": [
      "The maximum value in the list is: 17\n"
     ]
    }
   ],
   "source": [
    "# maximum value without using the built-in max() function.\n",
    "def find_maximum(numbers):\n",
    "   \n",
    "    maximum = numbers[0]\n",
    "    \n",
    "    for number in numbers:\n",
    "        \n",
    "        if number > maximum:\n",
    "            maximum = number\n",
    "    \n",
    "    return maximum\n",
    "\n",
    "numbers = [3, 8, 1, 17, 4]\n",
    "max_value = find_maximum(numbers)\n",
    "print(f\"The maximum value in the list is: {max_value}\")\n"
   ]
  },
  {
   "cell_type": "code",
   "execution_count": 18,
   "id": "bf644214-1ea9-4633-8eb0-b2f1aa69e1cb",
   "metadata": {},
   "outputs": [
    {
     "name": "stdout",
     "output_type": "stream",
     "text": [
      "Value of 'x' inside the function (local): 20\n",
      "Value of 'x' outside the function (global): 10\n"
     ]
    }
   ],
   "source": [
    "#Difference Between Local and Global Variables in Python:\n",
    "\n",
    "#Global variables are declared outside functions, accessible throughout the program, and can only be modified inside a function with the global keyword.\n",
    "#Local variables are defined inside functions, exist only within the function's scope, and are not accessible outside.\n",
    "#They're created when the function runs and destroyed when it ends.\n",
    "\n",
    "x = 10\n",
    "def example_function():\n",
    "    \n",
    "    x = 20\n",
    "    print(f\"Value of 'x' inside the function (local): {x}\")\n",
    "\n",
    "\n",
    "example_function()\n",
    "\n",
    "\n",
    "print(f\"Value of 'x' outside the function (global): {x}\")\n"
   ]
  },
  {
   "cell_type": "code",
   "execution_count": 17,
   "id": "21b993a5-fa66-4756-a5c6-98efe83a06f8",
   "metadata": {},
   "outputs": [
    {
     "name": "stdout",
     "output_type": "stream",
     "text": [
      "Area when both length and width are provided: 70\n",
      "Area when only length is provided: 50\n"
     ]
    }
   ],
   "source": [
    "\n",
    "def calculate_area(length, width=5):\n",
    "    \n",
    "    area = length * width\n",
    "    return area\n",
    "\n",
    "# Case 1: Providing both length and width\n",
    "area1 = calculate_area(10, 7)\n",
    "print(f\"Area when both length and width are provided: {area1}\")\n",
    "\n",
    "# Case 2: Providing only length (width defaults to 5)\n",
    "area2 = calculate_area(10)\n",
    "print(f\"Area when only length is provided: {area2}\")\n"
   ]
  },
  {
   "cell_type": "code",
   "execution_count": null,
   "id": "ba89224b-d28b-480a-a37f-592b574d3e2a",
   "metadata": {},
   "outputs": [],
   "source": []
  }
 ],
 "metadata": {
  "kernelspec": {
   "display_name": "Python 3 (ipykernel)",
   "language": "python",
   "name": "python3"
  },
  "language_info": {
   "codemirror_mode": {
    "name": "ipython",
    "version": 3
   },
   "file_extension": ".py",
   "mimetype": "text/x-python",
   "name": "python",
   "nbconvert_exporter": "python",
   "pygments_lexer": "ipython3",
   "version": "3.12.7"
  }
 },
 "nbformat": 4,
 "nbformat_minor": 5
}
