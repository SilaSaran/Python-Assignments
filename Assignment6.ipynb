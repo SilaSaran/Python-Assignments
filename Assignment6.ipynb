{
 "cells": [
  {
   "cell_type": "code",
   "execution_count": 9,
   "id": "daddda88-a182-4c43-bfb2-c7ab97367b47",
   "metadata": {},
   "outputs": [
    {
     "name": "stdout",
     "output_type": "stream",
     "text": [
      "Course Code: CS101, Course Name: Introduction to Computer Science, Credit Hours: 3, Required for Major: True\n",
      "Course Code: LA102, Course Name: Introduction to Liberal Arts, Credit Hours: 2, Elective Type: liberal arts\n"
     ]
    }
   ],
   "source": [
    "#  university's course catalog\n",
    "\n",
    "class Course:\n",
    "    def __init__(self, course_code, course_name, credit_hours):\n",
    "        self.course_code = course_code\n",
    "        self.course_name = course_name\n",
    "        self.credit_hours = credit_hours\n",
    "\n",
    "    def display_info(self):\n",
    "        return f\"Course Code: {self.course_code}, Course Name: {self.course_name}, Credit Hours: {self.credit_hours}\"\n",
    "\n",
    "class CoreCourse(Course):\n",
    "    def __init__(self, course_code, course_name, credit_hours, required_for_major):\n",
    "        super().__init__(course_code, course_name, credit_hours)\n",
    "        self.required_for_major = required_for_major\n",
    "\n",
    "    def display_info(self):\n",
    "        base_info = super().display_info()\n",
    "        return f\"{base_info}, Required for Major: {self.required_for_major}\"\n",
    "\n",
    "class ElectiveCourse(Course):\n",
    "    def __init__(self, course_code, course_name, credit_hours, elective_type):\n",
    "        super().__init__(course_code, course_name, credit_hours)\n",
    "        self.elective_type = elective_type\n",
    "\n",
    "    def display_info(self):\n",
    "        base_info = super().display_info()\n",
    "        return f\"{base_info}, Elective Type: {self.elective_type}\"\n",
    "\n",
    "# Example usage\n",
    "core_course = CoreCourse(\"CS101\", \"Introduction to Computer Science\", 3, True)\n",
    "elective_course = ElectiveCourse(\"LA102\", \"Introduction to Liberal Arts\", 2, \"liberal arts\")\n",
    "\n",
    "print(core_course.display_info())\n",
    "print(elective_course.display_info())\n"
   ]
  },
  {
   "cell_type": "code",
   "execution_count": 11,
   "id": "0089c7c5-aad5-4054-958e-ba77d662c001",
   "metadata": {},
   "outputs": [],
   "source": [
    "# Save the Employee class as a module\n",
    "with open(\"employee.py\", \"w\") as file:\n",
    "    file.write('''\n",
    "class Employee:\n",
    "    def __init__(self, name, salary):\n",
    "        self.name = name\n",
    "        self.salary = salary\n",
    "\n",
    "    def get_name(self):\n",
    "        return self.name\n",
    "\n",
    "    def get_salary(self):\n",
    "        return self.salary\n",
    "''')\n"
   ]
  },
  {
   "cell_type": "code",
   "execution_count": 12,
   "id": "3373daac-74ad-4c6b-baa7-5be636ed6ed2",
   "metadata": {},
   "outputs": [
    {
     "name": "stdout",
     "output_type": "stream",
     "text": [
      "Employee Name: Alice\n",
      "Employee Salary: 50000\n"
     ]
    }
   ],
   "source": [
    "\n",
    "from employee import Employee  # Import the Employee class from the employee module\n",
    "\n",
    "# Create an instance of the Employee class\n",
    "employee = Employee(\"Alice\", 50000)\n",
    "\n",
    "# Display the employee's name and salary using the class methods\n",
    "print(\"Employee Name:\", employee.get_name())\n",
    "print(\"Employee Salary:\", employee.get_salary())\n"
   ]
  },
  {
   "cell_type": "code",
   "execution_count": null,
   "id": "c8d93d6e-9390-4bc6-bce9-e46f8d1777a7",
   "metadata": {},
   "outputs": [],
   "source": []
  }
 ],
 "metadata": {
  "kernelspec": {
   "display_name": "Python 3 (ipykernel)",
   "language": "python",
   "name": "python3"
  },
  "language_info": {
   "codemirror_mode": {
    "name": "ipython",
    "version": 3
   },
   "file_extension": ".py",
   "mimetype": "text/x-python",
   "name": "python",
   "nbconvert_exporter": "python",
   "pygments_lexer": "ipython3",
   "version": "3.12.7"
  }
 },
 "nbformat": 4,
 "nbformat_minor": 5
}
