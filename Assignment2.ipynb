{
 "cells": [
  {
   "cell_type": "code",
   "execution_count": 2,
   "id": "8f9519ef-3e1f-4e7b-909b-baf8e00ebfb8",
   "metadata": {},
   "outputs": [
    {
     "name": "stdout",
     "output_type": "stream",
     "text": [
      "[23, 45, 12, 78, 3]\n"
     ]
    }
   ],
   "source": [
    "#Data structures in python \n",
    "\n",
    "#Topic :List\n",
    "#Exercise1\n",
    "\n",
    "#Q1. Create a list of 5 random numbers.\n",
    "random_numbers = [23, 45, 12, 78, 3]\n",
    "\n",
    "# Print the list\n",
    "print(random_numbers)\n"
   ]
  },
  {
   "cell_type": "code",
   "execution_count": 5,
   "id": "79090d57-05af-4bfa-91ca-70b8e230b1ee",
   "metadata": {},
   "outputs": [
    {
     "name": "stdout",
     "output_type": "stream",
     "text": [
      "[23, 45, 12, 78, 3, 11, 28, 56]\n"
     ]
    }
   ],
   "source": [
    "#Q2. Insert 3 new values to the list and print the updated list.\n",
    "\n",
    "random_numbers.extend([11,28,56])\n",
    "print(random_numbers)\n"
   ]
  },
  {
   "cell_type": "code",
   "execution_count": 10,
   "id": "56e0588f-e5b9-4147-a786-9f918a4ba11d",
   "metadata": {},
   "outputs": [
    {
     "name": "stdout",
     "output_type": "stream",
     "text": [
      "23\n",
      "45\n",
      "12\n",
      "78\n",
      "3\n",
      "11\n",
      "28\n",
      "56\n"
     ]
    }
   ],
   "source": [
    "#Q3. Try to use a for loop to print each element in the list.\n",
    "\n",
    "for number in random_numbers:
    print(number)\n"
   ]
  },
  {
   "cell_type": "code",
   "execution_count": 11,
   "id": "1882b607-9dc0-45a5-8587-27cc965cef41",
   "metadata": {},
   "outputs": [
    {
     "name": "stdout",
     "output_type": "stream",
     "text": [
      "{'name': 'John', 'age': 25, 'address': 'New York'}\n"
     ]
    }
   ],
   "source": [
    "#Topic: Dictionary\n",
    "#Exercise 2\n",
    "#Q1. Create a dictionary with keys 'name', 'age', and 'address' and values 'John', 25, and 'New York' respectively.\n",
    "\n",
    "d1 = {'name':'John','age':25,'address':'New York'}\n",
    "# Print the dictionary\n",
    "print(d1)\n"
   ]
  },
  {
   "cell_type": "code",
   "execution_count": 15,
   "id": "f48d48b5-e935-403a-a186-fdfee8bed0a5",
   "metadata": {},
   "outputs": [
    {
     "name": "stdout",
     "output_type": "stream",
     "text": [
      "{'name': 'John', 'age': 25, 'address': 'New York', 'phone': 1234567890}\n"
     ]
    }
   ],
   "source": [
    "#Q2. Add a new key-value pair to the dictionary created in Q1 with key 'phone' and value '1234567890'.\n",
    "d1['phone']=1234567890\n",
    "print(d1)"
   ]
  },
  {
   "cell_type": "code",
   "execution_count": 16,
   "id": "bde88e7a-90d7-459a-b4af-eb051161b8c9",
   "metadata": {},
   "outputs": [
    {
     "data": {
      "text/plain": [
       "{1, 2, 3, 4, 5}"
      ]
     },
     "execution_count": 16,
     "metadata": {},
     "output_type": "execute_result"
    }
   ],
   "source": [
    "#Topic: Set\n",
    "#Exercise 3\n",
    "#Q1.Create a set with values 1, 2, 3, 4, and 5.\n",
    "s1={1,2,3,4,5}\n",
    "s1\n",
    "\n"
   ]
  },
  {
   "cell_type": "code",
   "execution_count": 17,
   "id": "4824ff49-4154-4fd2-8c55-c327e8f6dc9a",
   "metadata": {},
   "outputs": [
    {
     "data": {
      "text/plain": [
       "{1, 2, 3, 4, 5, 6}"
      ]
     },
     "execution_count": 17,
     "metadata": {},
     "output_type": "execute_result"
    }
   ],
   "source": [
    "#Q2. Add the value 6 to the set created in Q1.\n",
    "s1.add(6)\n",
    "s1\n"
   ]
  },
  {
   "cell_type": "code",
   "execution_count": 18,
   "id": "ee63d5da-7c12-4335-9240-09505102c3b9",
   "metadata": {},
   "outputs": [
    {
     "data": {
      "text/plain": [
       "{1, 2, 4, 5, 6}"
      ]
     },
     "execution_count": 18,
     "metadata": {},
     "output_type": "execute_result"
    }
   ],
   "source": [
    "#Q3. Remove the value 3 from the set created in Q1.\n",
    "s1.remove(3)\n",
    "s1"
   ]
  },
  {
   "cell_type": "code",
   "execution_count": 19,
   "id": "e902c430-b59f-48f6-ad09-49d4507aa82a",
   "metadata": {},
   "outputs": [
    {
     "data": {
      "text/plain": [
       "(1, 2, 3, 4)"
      ]
     },
     "execution_count": 19,
     "metadata": {},
     "output_type": "execute_result"
    }
   ],
   "source": [
    "#Topic:Tuple\n",
    "#Exercise 4\n",
    "#Q1. Create a tuple with values 1, 2, 3, and 4\n",
    "t1=1,2,3,4\n",
    "t1\n"
   ]
  },
  {
   "cell_type": "code",
   "execution_count": 20,
   "id": "797d0446-ac81-4339-867a-d5f9a91334a9",
   "metadata": {},
   "outputs": [
    {
     "name": "stdout",
     "output_type": "stream",
     "text": [
      "4\n"
     ]
    }
   ],
   "source": [
    "#Q2. Print the length of the tuple created in Q1.\n",
    "print(len(t1))"
   ]
  },
  {
   "cell_type": "code",
   "execution_count": null,
   "id": "e0d743d3-b7c1-4383-9087-e5e519068aed",
   "metadata": {},
   "outputs": [],
   "source": []
  }
 ],
 "metadata": {
  "kernelspec": {
   "display_name": "Python 3 (ipykernel)",
   "language": "python",
   "name": "python3"
  },
  "language_info": {
   "codemirror_mode": {
    "name": "ipython",
    "version": 3
   },
   "file_extension": ".py",
   "mimetype": "text/x-python",
   "name": "python",
   "nbconvert_exporter": "python",
   "pygments_lexer": "ipython3",
   "version": "3.12.7"
  }
 },
 "nbformat": 4,
 "nbformat_minor": 5
}
