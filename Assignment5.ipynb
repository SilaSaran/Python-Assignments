{
 "cells": [
  {
   "cell_type": "code",
   "execution_count": 74,
   "id": "40fa11d7-434c-4065-8f21-31c33379c156",
   "metadata": {},
   "outputs": [
    {
     "data": {
      "text/plain": [
       "'hello!! how are you?'"
      ]
     },
     "execution_count": 74,
     "metadata": {},
     "output_type": "execute_result"
    }
   ],
   "source": [
    "# 1- Program to read a file and display its contents\n",
    "file = open(\"C:\\\\Users\\\\SREECHAND MUKUNDAN\\\\Desktop\\\\Assignment5.txt\", \"r\")\n",
    "file.read()"
   ]
  },
  {
   "cell_type": "code",
   "execution_count": 75,
   "id": "3e080064-dd9c-4017-9b09-e4eca0749957",
   "metadata": {},
   "outputs": [
    {
     "name": "stdout",
     "output_type": "stream",
     "text": [
      "hello!! how are you?\n"
     ]
    }
   ],
   "source": [
    "# 2- Specify the source file and new file\n",
    "source_file_path = \"C:\\\\Users\\\\SREECHAND MUKUNDAN\\\\Desktop\\\\Assignment5.txt\"  \n",
    "new_file_path = \"C:\\\\Users\\\\SREECHAND MUKUNDAN\\\\Desktop\\\\NewFile.txt\"  \n",
    "\n",
    "with open(source_file_path, \"r\") as source_file, open(new_file_path, \"w\") as new_file:\n",
    "        content = source_file.read()\n",
    "        new_file.write(content)\n",
    "print(content)"
   ]
  },
  {
   "cell_type": "code",
   "execution_count": 76,
   "id": "ae021b1d-bdd1-483c-84b2-735579022557",
   "metadata": {},
   "outputs": [
    {
     "name": "stdout",
     "output_type": "stream",
     "text": [
      "The total number of words in the file is: 4\n"
     ]
    }
   ],
   "source": [
    "# 3- to read the content of a file and count the total number of words \n",
    "# Open the file\n",
    "file = open(\"C:\\\\Users\\\\SREECHAND MUKUNDAN\\\\Desktop\\\\Assignment5.txt\", \"r\")\n",
    "\n",
    "# Read the content of the file\n",
    "content = file.read()\n",
    "# Split the content into words and count them\n",
    "word_count = len(content.split())\n",
    "\n",
    "# Display the total number of words\n",
    "print(f\"The total number of words in the file is: {word_count}\")"
   ]
  },
  {
   "cell_type": "code",
   "execution_count": 58,
   "id": "8ffeab44-73f5-4b95-920a-1b219650625c",
   "metadata": {},
   "outputs": [
    {
     "name": "stdin",
     "output_type": "stream",
     "text": [
      "Enter a number:  234\n"
     ]
    },
    {
     "name": "stdout",
     "output_type": "stream",
     "text": [
      "The integer value is: 234\n"
     ]
    }
   ],
   "source": [
    "# 4- Program to convert a user-input string to an integer\n",
    "\n",
    "try:\n",
    "    # Prompt the user to input a string\n",
    "    user_input = input(\"Enter a number: \")\n",
    "    \n",
    "    # Convert the input to an integer\n",
    "    number = int(user_input)\n",
    "    \n",
    "    # Display the result\n",
    "    print(f\"The integer value is: {number}\")\n",
    "except ValueError:\n",
    "    # Handle the exception if the input is not a valid integer\n",
    "    print(\"Invalid input! Please enter a valid integer.\")\n",
    "except Exception as e:\n",
    "    # Handle any other unexpected exceptions\n",
    "    print(f\"An error occurred: {e}\")\n"
   ]
  },
  {
   "cell_type": "code",
   "execution_count": 57,
   "id": "a622afda-d6f6-4fca-9e71-ea056363aab0",
   "metadata": {},
   "outputs": [
    {
     "name": "stdin",
     "output_type": "stream",
     "text": [
      "Enter a list of integers, separated by spaces:  23 45 56 78\n"
     ]
    },
    {
     "name": "stdout",
     "output_type": "stream",
     "text": [
      "The average of the entered integers is: 50.5\n",
      "The program has finished running.\n"
     ]
    }
   ],
   "source": [
    "# 6- Program to compute the average of a list of integers\n",
    "\n",
    "try:\n",
    "    # Prompt the user to input a list of integers\n",
    "    user_input = input(\"Enter a list of integers, separated by spaces: \")\n",
    "    \n",
    "    # Convert the input string into a list of integers\n",
    "    numbers = [int(num) for num in user_input.split()]\n",
    "    \n",
    "    # Compute the average\n",
    "    average = sum(numbers) / len(numbers)\n",
    "    \n",
    "    # Display the result\n",
    "    print(f\"The average of the entered integers is: {average}\")\n",
    "except ValueError:\n",
    "    # Handle the exception if the input contains invalid data (non-integer values)\n",
    "    print(\"Invalid input! Please enter only integers separated by spaces.\")\n",
    "except ZeroDivisionError:\n",
    "    # Handle the exception if the user enters an empty list\n",
    "    print(\"No numbers were entered! Cannot compute the average.\")\n",
    "except:\n",
    "    # Handle any other unexpected exceptions\n",
    "    print(\"An unexpected error occurred:\")\n",
    "finally:\n",
    "    # Print a message indicating the program has finished\n",
    "    print(\"The program has finished running.\")\n",
    "\n"
   ]
  },
  {
   "cell_type": "code",
   "execution_count": 64,
   "id": "b5cd5e34-3f04-4b6e-8ac6-db6f83047bfa",
   "metadata": {},
   "outputs": [
    {
     "name": "stdin",
     "output_type": "stream",
     "text": [
      "Enter a list of integers, separated by spaces:  -23 33 45\n"
     ]
    },
    {
     "name": "stdout",
     "output_type": "stream",
     "text": [
      "Negative integer found: -23\n",
      "The program has finished running.\n"
     ]
    }
   ],
   "source": [
    "# 5- Define a custom exception for negative integers\n",
    "class NegativeIntegerError(Exception):\n",
    "    pass\n",
    "\n",
    "try:\n",
    "    # Prompt the user to input a list of integers\n",
    "    user_input = input(\"Enter a list of integers, separated by spaces: \")\n",
    "    \n",
    "    # Convert the input string into a list of integers\n",
    "    numbers = [int(num) for num in user_input.split()]\n",
    "    \n",
    "    # Check for negative integers in the list\n",
    "    for num in numbers:\n",
    "        if num < 0:\n",
    "            raise NegativeIntegerError(f\"Negative integer found: {num}\")\n",
    "    \n",
    "    # If no negative integers, display a success message\n",
    "    print(\"All integers are non-negative.\")\n",
    "except ValueError:\n",
    "    # Handle the exception if the input contains invalid data (non-integer values)\n",
    "    print(\"Invalid input! Please enter only integers separated by spaces.\")\n",
    "except NegativeIntegerError as e:\n",
    "    # Handle the custom exception for negative integers\n",
    "    print(e)\n",
    "except Exception as e:\n",
    "    # Handle any other unexpected exceptions\n",
    "    print(f\"An unexpected error occurred: {e}\")\n",
    "finally:\n",
    "    # Print a message indicating that the program has finished running\n",
    "    print(\"The program has finished running.\")\n"
   ]
  },
  {
   "cell_type": "code",
   "execution_count": 77,
   "id": "80992c89-fd17-4ae2-9c9b-2286d7f55ed6",
   "metadata": {},
   "outputs": [
    {
     "name": "stdin",
     "output_type": "stream",
     "text": [
      "Enter the filename (including the path if needed):  C:\\\\Users\\\\SREECHAND MUKUNDAN\\\\Desktop\\\\Assignment5.txt\n",
      "Enter the string you want to write to the file:  how do you do?\n"
     ]
    },
    {
     "name": "stdout",
     "output_type": "stream",
     "text": [
      "Welcome! The string has been written to the file successfully.\n",
      "The program has finished running.\n"
     ]
    }
   ],
   "source": [
    "# 7-Program to write a string to a file\n",
    "\n",
    "try:\n",
    "    # Prompt the user to input a filename\n",
    "    filename = input(\"Enter the filename (including the path if needed): \")\n",
    "    \n",
    "    # Prompt the user to input the string to write into the file\n",
    "    content = input(\"Enter the string you want to write to the file: \")\n",
    "    \n",
    "    # Open the file in write mode and write the string\n",
    "    with open(filename, \"w\") as file:\n",
    "        file.write(content)\n",
    "    \n",
    "    # Print a welcome message if no exception occurs\n",
    "    print(\"Welcome! The string has been written to the file successfully.\")\n",
    "except FileNotFoundError:\n",
    "    # Handle the exception if the file path is invalid\n",
    "    print(\"The file path is invalid. Please check and try again.\")\n",
    "except PermissionError:\n",
    "    # Handle the exception if there is a permission issue\n",
    "    print(\"You don't have permission to write to this file.\")\n",
    "except Exception as e:\n",
    "    # Handle any other unexpected exceptions\n",
    "    print(f\"An error occurred: {e}\")\n",
    "finally:\n",
    "    # Print a final message indicating the program has finished\n",
    "    print(\"The program has finished running.\")\n"
   ]
  },
  {
   "cell_type": "code",
   "execution_count": null,
   "id": "bb162e19-0a9d-4cc1-8866-aff0f33e8d0d",
   "metadata": {},
   "outputs": [],
   "source": []
  }
 ],
 "metadata": {
  "kernelspec": {
   "display_name": "Python 3 (ipykernel)",
   "language": "python",
   "name": "python3"
  },
  "language_info": {
   "codemirror_mode": {
    "name": "ipython",
    "version": 3
   },
   "file_extension": ".py",
   "mimetype": "text/x-python",
   "name": "python",
   "nbconvert_exporter": "python",
   "pygments_lexer": "ipython3",
   "version": "3.12.7"
  }
 },
 "nbformat": 4,
 "nbformat_minor": 5
}
