{
 "cells": [
  {
   "cell_type": "code",
   "execution_count": 28,
   "id": "7846241b-a33d-4ff3-8900-d2b89083d927",
   "metadata": {},
   "outputs": [
    {
     "name": "stdout",
     "output_type": "stream",
     "text": [
      "sila\n",
      "St101\n",
      "Sila@gmail.com\n"
     ]
    }
   ],
   "source": [
    "#Assignment 1\n",
    "#Exercise 1  \n",
    "# Write Python code that prints your name, student number and email address.  \n",
    "print(\"sila\")\n",
    "print(\"St101\")\n",
    "print(\"Sila@gmail.com\")\n",
    "    "
   ]
  },
  {
   "cell_type": "code",
   "execution_count": 35,
   "id": "9faa79dd-1f73-49a4-9a19-8d1a69b1ad5f",
   "metadata": {},
   "outputs": [
    {
     "name": "stdout",
     "output_type": "stream",
     "text": [
      "\"sila\"\n",
      "\"st101\"\n",
      "\"sila@gmail.com\"\n"
     ]
    }
   ],
   "source": [
    "#Exercise 2 \n",
    "#Write Python code that prints your name, student number and email address using escape sequences.\n",
    "print(\"\\\"sila\\\"\")\n",
    "print(\"\\\"st101\\\"\")\n",
    "print(\"\\\"sila@gmail.com\\\"\")\n",
    "\n",
    "\n"
   ]
  },
  {
   "cell_type": "code",
   "execution_count": 40,
   "id": "05c8393b-2184-4a2b-a0a7-b60c92b1b42c",
   "metadata": {},
   "outputs": [
    {
     "name": "stdout",
     "output_type": "stream",
     "text": [
      "14 + 7 = 21\n",
      "14 - 7 = 7\n",
      "14 * 7 = 98\n",
      "14 / 7 = 2.0\n"
     ]
    }
   ],
   "source": [
    "#Exercise 3 \n",
    "#Write Python code that add, subtract, multiply and divide the two numbers.\n",
    "n1 = 14\n",
    "n2 = 7\n",
    "print(f\"{n1} + {n2} = {n1 + n2}\")\n",
    "print(f\"{n1} - {n2} = {n1 - n2}\")\n",
    "print(f\"{n1} * {n2} = {n1 * n2}\")\n",
    "print(f\"{n1} / {n2} = {n1 / n2}\")\n",
    "\n",
    "\n",
    "\n"
   ]
  },
  {
   "cell_type": "code",
   "execution_count": 46,
   "id": "78c691d1-8abc-4b6f-95bb-034e58ef1fa5",
   "metadata": {},
   "outputs": [
    {
     "name": "stdout",
     "output_type": "stream",
     "text": [
      "\n",
      "      1\n",
      "      2\n",
      "      3\n",
      "      4\n",
      "      5\n",
      "      \n"
     ]
    }
   ],
   "source": [
    "#Exercise 4\n",
    "#Write Python code that displays the numbers from 1 to 5 as steps. \n",
    "\n",
    "print(\"\"\"\n",
    "      1\n",
    "      2\n",
    "      3\n",
    "      4\n",
    "      5\n",
    "      \"\"\")"
   ]
  },
  {
   "cell_type": "code",
   "execution_count": 47,
   "id": "8186659a-4a58-41b6-bc34-b0a1bbcb7910",
   "metadata": {},
   "outputs": [
    {
     "name": "stdout",
     "output_type": "stream",
     "text": [
      "\"SDK\" stands for \"Software Development Kit\", whereas \n",
      "\"IDE\" stands for \"Integrated Development Environment\".\n"
     ]
    }
   ],
   "source": [
    "#Exercise 5\n",
    "# Print the sentence with quotation marks and a line break\n",
    "\n",
    "print(\"\\\"SDK\\\" stands for \\\"Software Development Kit\\\", whereas \\n\\\"IDE\\\" stands for \\\"Integrated Development Environment\\\".\")\n"
   ]
  },
  {
   "cell_type": "code",
   "execution_count": 50,
   "id": "951bae6f-ce8e-4e29-a24e-08ca64e1826f",
   "metadata": {},
   "outputs": [
    {
     "name": "stdout",
     "output_type": "stream",
     "text": [
      "python is an \"awesome\" language.\n",
      "python\n",
      "\t2023\n",
      "I'm from Entri\n",
      "5\n",
      "e\n",
      "Entri\n",
      "2023\n",
      "Entr2023\n",
      "Entri*20"
     ]
    }
   ],
   "source": [
    "#Exercise 6\n",
    "#Practice and check the output\n",
    "print(\"python is an \\\"awesome\\\" language.\")\n",
    "print(\"python\\n\\t2023\")\n",
    "print('I\\'m from Entri.\\b')\n",
    "print(\"\\65\")\n",
    "print(\"\\x65\")\n",
    "print(\"Entri\", \"2023\", sep=\"\\n\")\n",
    "print(\"Entri\", \"2023\", sep=\"\\b\")\n",
    "print(\"Entri\", \"2023\", sep=\"*\", end=\"\\b\\b\\b\\b\")\n"
   ]
  },
  {
   "cell_type": "code",
   "execution_count": 55,
   "id": "d90b7ac0-3680-45fc-b564-f71f09fe0683",
   "metadata": {},
   "outputs": [
    {
     "name": "stdout",
     "output_type": "stream",
     "text": [
      "Type of num: <class 'int'>\n",
      "Type of textnum: <class 'str'>\n",
      "Type of decimal: <class 'float'>\n"
     ]
    }
   ],
   "source": [
    "#Exercise 7\n",
    "#Define the variables below. Print the types of each variable. \n",
    "#What is the sum of your variables? (Hint: use a type conversion function.) \n",
    "#What datatype is the sum?\n",
    "\n",
    "# Define the variables\n",
    "num = 23\n",
    "textnum = \"57\"\n",
    "decimal = 98.3\n",
    "\n",
    "# Print the types of each variable\n",
    "print(\"Type of num:\", type(num))\n",
    "print(\"Type of textnum:\", type(textnum))\n",
    "print(\"Type of decimal:\", type(decimal))\n",
    "\n"
   ]
  },
  {
   "cell_type": "code",
   "execution_count": 57,
   "id": "709cb0ae-3389-4ded-b2ed-d64f4c0208a4",
   "metadata": {},
   "outputs": [
    {
     "name": "stdout",
     "output_type": "stream",
     "text": [
      "Sum of the variables: 178.3\n",
      "Type of the sum: <class 'float'>\n"
     ]
    }
   ],
   "source": [
    "# Convert textnum to an integer\n",
    "textnum_int = int(textnum)\n",
    "# Calculate the sum of the variables\n",
    "total_sum = num + textnum_int + decimal\n",
    "\n",
    "# Print the sum and its datatype\n",
    "print(\"Sum of the variables:\", total_sum)\n",
    "print(\"Type of the sum:\", type(total_sum))\n",
    "\n"
   ]
  },
  {
   "cell_type": "code",
   "execution_count": 65,
   "id": "9cf113e6-dddc-4c29-80bb-389f4b5c7e9e",
   "metadata": {},
   "outputs": [
    {
     "name": "stdout",
     "output_type": "stream",
     "text": [
      "This code calculates the total number of minutes in a year.\n",
      "Number of days in a year: 365\n",
      "Number of hours in a day: 24\n",
      "Number of minutes in an hour: 60\n",
      "Total number of minutes in a year: 525600\n"
     ]
    }
   ],
   "source": [
    "#Exercise 8\n",
    "#calculate the number of minutes in a year using variables for each unit of time. \n",
    "#print a statement that describes what your code does also.\n",
    "#Create three variables to store no of days in a year, minute in a hour, hours in a day,\n",
    "#then calculate the total minutes in a year and print the values\n",
    "#(hint) total number of minutes in an year =No.of days in an year * Hours in a day * Minutes in an hour\n",
    "\n",
    "# Number of days in a year \n",
    "days_in_year = 365\n",
    "\n",
    "# Number of hours in a day\n",
    "hours_in_day = 24\n",
    "\n",
    "# Number of minutes in an hour\n",
    "minutes_in_hour = 60\n",
    "\n",
    "# Calculate the total number of minutes in a year\n",
    "total_minutes_in_year = days_in_year * hours_in_day * minutes_in_hour\n",
    "\n",
    "# Print the statement describing what the code does\n",
    "print(\"This code calculates the total number of minutes in a year.\")\n",
    "print(f\"Number of days in a year: {days_in_year}\")\n",
    "print(f\"Number of hours in a day: {hours_in_day}\")\n",
    "print(f\"Number of minutes in an hour: {minutes_in_hour}\")\n",
    "print(f\"Total number of minutes in a year: {total_minutes_in_year}\")\n"
   ]
  },
  {
   "cell_type": "code",
   "execution_count": 66,
   "id": "2879e8e9-03bd-4830-bbc7-f54694fc9fca",
   "metadata": {},
   "outputs": [
    {
     "name": "stdin",
     "output_type": "stream",
     "text": [
      "Please enter your name:  sila\n"
     ]
    },
    {
     "name": "stdout",
     "output_type": "stream",
     "text": [
      "Hi sila, welcome to Python programming :)\n"
     ]
    }
   ],
   "source": [
    "#Exercise 9\n",
    "#Write Python code that asks the user to enter his/her name and then output/prints his/her name with a greeting.\n",
    "\n",
    "# Ask the user to enter their name\n",
    "name = input(\"Please enter your name: \")\n",
    "\n",
    "# Print the greeting message\n",
    "print(f\"Hi {name}, welcome to Python programming :)\")\n",
    "\n"
   ]
  },
  {
   "cell_type": "code",
   "execution_count": 68,
   "id": "6615dc2a-1302-433e-84d7-9eddc52c6aa5",
   "metadata": {},
   "outputs": [
    {
     "name": "stdin",
     "output_type": "stream",
     "text": [
      "Please enter amount in pounds:  3\n"
     ]
    },
    {
     "name": "stdout",
     "output_type": "stream",
     "text": [
      "£ 3.0 are $ 4.08\n"
     ]
    }
   ],
   "source": [
    "#Exercise 10\n",
    "\n",
    "#Write a program that asks the user to enter an amount in pounds (£) and the program calculates and converts an amount in dollar ($)\n",
    "\n",
    "# Define the conversion rate (1 pound = 1.36 dollars)\n",
    "conversion_rate = 1.36\n",
    "\n",
    "# Ask the user to enter an amount in pounds\n",
    "amount_in_pounds = float(input(\"Please enter amount in pounds: \"))\n",
    "\n",
    "# Calculate the amount in dollars\n",
    "amount_in_dollars = amount_in_pounds * conversion_rate\n",
    "\n",
    "# Print the result\n",
    "print(f\"£ {amount_in_pounds} are $ {amount_in_dollars:.2f}\")\n"
   ]
  },
  {
   "cell_type": "code",
   "execution_count": null,
   "id": "31712967-fc7f-4c40-88d2-4087948ff10b",
   "metadata": {},
   "outputs": [],
   "source": []
  }
 ],
 "metadata": {
  "kernelspec": {
   "display_name": "Python 3 (ipykernel)",
   "language": "python",
   "name": "python3"
  },
  "language_info": {
   "codemirror_mode": {
    "name": "ipython",
    "version": 3
   },
   "file_extension": ".py",
   "mimetype": "text/x-python",
   "name": "python",
   "nbconvert_exporter": "python",
   "pygments_lexer": "ipython3",
   "version": "3.12.7"
  }
 },
 "nbformat": 4,
 "nbformat_minor": 5
}
